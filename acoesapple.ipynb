{
 "cells": [
  {
   "cell_type": "code",
   "execution_count": null,
   "metadata": {},
   "outputs": [],
   "source": [
    "import pandas as pd\n",
    "import matplotlib.pyplot as plt"
   ]
  },
  {
   "cell_type": "code",
   "execution_count": null,
   "metadata": {},
   "outputs": [],
   "source": [
    "# Carregar dados de um arquivo CSV\n",
    "df = pd.read_csv('AAPL.csv')\n",
    "\n",
    "# Se os dados precisarem de limpeza, por exemplo, tratar datas e valores ausentes\n",
    "# Vamos supor que as colunas estejam nomeadas como 'Date' e 'Close' para data e preço de fechamento, respectivamente\n",
    "df['Date'] = pd.to_datetime(df['Date'])  # Converter a coluna de data para o tipo datetime, se necessário\n",
    "df = df.dropna()  # Remover linhas com valores ausentes, se houver\n",
    "\n",
    "# Visualizar as primeiras linhas para verificar se os dados foram carregados corretamente\n",
    "print(df.head())"
   ]
  },
  {
   "cell_type": "code",
   "execution_count": null,
   "metadata": {},
   "outputs": [],
   "source": [
    "# Calcular retornos diarios\n",
    "df['Daily Return'] = df['Close'].pct_change()"
   ]
  },
  {
   "cell_type": "code",
   "execution_count": null,
   "metadata": {},
   "outputs": [],
   "source": [
    "# Media simples(SMA) e Media movel Exponencial(EMA)\n",
    "window = 20 # janela  de 20 dias\n",
    "df['SMA'] = df['Close'].rolling(window=window).mean() # Media movel simples\n",
    "df['EMA'] = df['Close'].ewm(span=window, adjust=False).mean() # media movel exponencial"
   ]
  },
  {
   "cell_type": "code",
   "execution_count": null,
   "metadata": {},
   "outputs": [],
   "source": [
    "# Calcular a volatilidade histórica com desvio padrão\n",
    "window_volatility = 20  # Janela de 20 dias para a volatilidade\n",
    "df['Volatility'] = df['Close'].rolling(window=window_volatility).std()"
   ]
  },
  {
   "cell_type": "code",
   "execution_count": null,
   "metadata": {},
   "outputs": [],
   "source": [
    "# Calcula os retornos acumulados\n",
    "df['Cumulative Return'] = (1 + df['Daily Return']).cumprod() - 1"
   ]
  },
  {
   "cell_type": "code",
   "execution_count": null,
   "metadata": {},
   "outputs": [],
   "source": [
    "# Visualizações"
   ]
  },
  {
   "cell_type": "code",
   "execution_count": null,
   "metadata": {},
   "outputs": [],
   "source": [
    "# Tendencia de preços ao longo do tempo\n",
    "plt.figure(figsize=(10, 6))\n",
    "plt.plot(df['Date'], df['Close'], label='Preço de Fechamento')\n",
    "plt.title('Tendência do Preço de Ações ao Longo do Tempo')\n",
    "plt.xlabel('Data')\n",
    "plt.ylabel('Preço de Fechamento')\n",
    "plt.legend()\n",
    "plt.show()\n"
   ]
  },
  {
   "cell_type": "code",
   "execution_count": null,
   "metadata": {},
   "outputs": [],
   "source": [
    "# Volatilidade - grafico de barras do retorno diario\n",
    "plt.figure(figsize=(10, 6))\n",
    "plt.bar(df['Date'], df['Daily Return'], color='orange', label='Retorno Diário')\n",
    "plt.title('Volatilidade - Retorno Diário')\n",
    "plt.xlabel('Data')\n",
    "plt.ylabel('Retorno Diário')\n",
    "plt.legend()\n",
    "plt.show()\n"
   ]
  },
  {
   "cell_type": "code",
   "execution_count": null,
   "metadata": {},
   "outputs": [],
   "source": [
    "# Média Móvel Simples e Exponencial\n",
    "plt.figure(figsize=(12, 6))\n",
    "plt.plot(df['Date'], df['Close'], label='Preço de Fechamento', alpha=0.5)\n",
    "plt.plot(df['Date'], df['SMA'], label='Média Móvel Simples (SMA)', linestyle='--')\n",
    "plt.plot(df['Date'], df['EMA'], label='Média Móvel Exponencial (EMA)', linestyle='--')\n",
    "plt.title('Média Móvel Simples e Exponencial')\n",
    "plt.xlabel('Data')\n",
    "plt.ylabel('Preço de Fechamento')\n",
    "plt.legend()\n",
    "plt.show()"
   ]
  },
  {
   "cell_type": "code",
   "execution_count": null,
   "metadata": {},
   "outputs": [],
   "source": [
    "# Volatilidade Histórica\n",
    "plt.figure(figsize=(10, 6))\n",
    "plt.plot(df['Date'], df['Volatility'], label='Volatilidade (Desvio Padrão)')\n",
    "plt.title('Volatilidade Histórica')\n",
    "plt.xlabel('Data')\n",
    "plt.ylabel('Volatilidade')\n",
    "plt.legend()\n",
    "plt.show()"
   ]
  },
  {
   "cell_type": "code",
   "execution_count": null,
   "metadata": {},
   "outputs": [],
   "source": [
    "# Retornos Acumulados\n",
    "plt.figure(figsize=(10, 6))\n",
    "plt.plot(df['Date'], df['Cumulative Return'], label='Retorno Acumulado')\n",
    "plt.title('Retornos Acumulados')\n",
    "plt.xlabel('Data')\n",
    "plt.ylabel('Retorno Acumulado')\n",
    "plt.legend()\n",
    "plt.show()"
   ]
  }
 ],
 "metadata": {
  "kernelspec": {
   "display_name": "Python 3",
   "language": "python",
   "name": "python3"
  },
  "language_info": {
   "name": "python",
   "version": "3.9.13"
  }
 },
 "nbformat": 4,
 "nbformat_minor": 2
}
